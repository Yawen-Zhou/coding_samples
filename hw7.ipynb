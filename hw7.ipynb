{
 "cells": [
  {
   "cell_type": "markdown",
   "metadata": {},
   "source": [
    "# 0. Linear Regression"
   ]
  },
  {
   "cell_type": "code",
   "execution_count": 55,
   "metadata": {},
   "outputs": [],
   "source": [
    "import numpy as np\n",
    "\n",
    "def linear_regression(X, Y):\n",
    "    X_mean = np.mean(X)\n",
    "    Y_mean = np.mean(Y)\n",
    "    covariance = sum((x - X_mean) * (y - X_mean) for x, y in zip(X, Y) ) / (len(X) - 1)\n",
    "    X_std = np.sqrt((sum((x - X_mean)**2 for x in X)) / (len(X) - 1))\n",
    "    Y_std = np.sqrt((sum((y - Y_mean)**2 for y in Y)) / (len(Y) - 1))\n",
    "    pearson = covariance / (X_std * Y_std)\n",
    "    beta1 = pearson * (Y_std / X_std)\n",
    "    beta0 = Y_mean - (beta1 * X_mean)\n",
    "\n",
    "    return f\"𝛽1={beta1}\", f\"𝛽0={beta0}\"\n"
   ]
  },
  {
   "cell_type": "code",
   "execution_count": 57,
   "metadata": {},
   "outputs": [
    {
     "data": {
      "text/plain": [
       "('𝛽1=1.2520629437727884', '𝛽0=2.1493955094991364')"
      ]
     },
     "execution_count": 57,
     "metadata": {},
     "output_type": "execute_result"
    }
   ],
   "source": [
    "X = [1,3,6,7,12,25,45]\n",
    "Y = [2,4,6,12,23,36,56]\n",
    "\n",
    "linear_regression(X, Y)"
   ]
  },
  {
   "cell_type": "code",
   "execution_count": 58,
   "metadata": {},
   "outputs": [
    {
     "data": {
      "text/plain": [
       "LinregressResult(slope=1.2520629437727884, intercept=2.1493955094991364, rvalue=0.9859832044840525, pvalue=4.4341128766808625e-05, stderr=0.09475099898093386, intercept_stderr=1.9249016662446332)"
      ]
     },
     "execution_count": 58,
     "metadata": {},
     "output_type": "execute_result"
    }
   ],
   "source": [
    "from scipy.stats import linregress\n",
    "linregress(X, Y)"
   ]
  },
  {
   "cell_type": "code",
   "execution_count": 59,
   "metadata": {},
   "outputs": [
    {
     "data": {
      "text/html": [
       "<div>\n",
       "<style scoped>\n",
       "    .dataframe tbody tr th:only-of-type {\n",
       "        vertical-align: middle;\n",
       "    }\n",
       "\n",
       "    .dataframe tbody tr th {\n",
       "        vertical-align: top;\n",
       "    }\n",
       "\n",
       "    .dataframe thead th {\n",
       "        text-align: right;\n",
       "    }\n",
       "</style>\n",
       "<table border=\"1\" class=\"dataframe\">\n",
       "  <thead>\n",
       "    <tr style=\"text-align: right;\">\n",
       "      <th></th>\n",
       "      <th>Unnamed: 0</th>\n",
       "      <th>rawid</th>\n",
       "      <th>roi</th>\n",
       "      <th>volume</th>\n",
       "      <th>min</th>\n",
       "      <th>max</th>\n",
       "      <th>mean</th>\n",
       "      <th>std</th>\n",
       "      <th>type</th>\n",
       "      <th>level</th>\n",
       "      <th>id</th>\n",
       "      <th>icv</th>\n",
       "      <th>tbv</th>\n",
       "    </tr>\n",
       "  </thead>\n",
       "  <tbody>\n",
       "    <tr>\n",
       "      <th>0</th>\n",
       "      <td>1</td>\n",
       "      <td>kirby127a_3_1_ax.img</td>\n",
       "      <td>Telencephalon_L</td>\n",
       "      <td>531111</td>\n",
       "      <td>0.0</td>\n",
       "      <td>374.0</td>\n",
       "      <td>128.3013</td>\n",
       "      <td>51.8593</td>\n",
       "      <td>1</td>\n",
       "      <td>1</td>\n",
       "      <td>127</td>\n",
       "      <td>1378295</td>\n",
       "      <td>1268519</td>\n",
       "    </tr>\n",
       "    <tr>\n",
       "      <th>1</th>\n",
       "      <td>2</td>\n",
       "      <td>kirby127a_3_1_ax.img</td>\n",
       "      <td>Telencephalon_R</td>\n",
       "      <td>543404</td>\n",
       "      <td>0.0</td>\n",
       "      <td>300.0</td>\n",
       "      <td>135.0683</td>\n",
       "      <td>53.6471</td>\n",
       "      <td>1</td>\n",
       "      <td>1</td>\n",
       "      <td>127</td>\n",
       "      <td>1378295</td>\n",
       "      <td>1268519</td>\n",
       "    </tr>\n",
       "    <tr>\n",
       "      <th>2</th>\n",
       "      <td>3</td>\n",
       "      <td>kirby127a_3_1_ax.img</td>\n",
       "      <td>Diencephalon_L</td>\n",
       "      <td>9683</td>\n",
       "      <td>15.0</td>\n",
       "      <td>295.0</td>\n",
       "      <td>193.5488</td>\n",
       "      <td>32.2733</td>\n",
       "      <td>1</td>\n",
       "      <td>1</td>\n",
       "      <td>127</td>\n",
       "      <td>1378295</td>\n",
       "      <td>1268519</td>\n",
       "    </tr>\n",
       "    <tr>\n",
       "      <th>3</th>\n",
       "      <td>4</td>\n",
       "      <td>kirby127a_3_1_ax.img</td>\n",
       "      <td>Diencephalon_R</td>\n",
       "      <td>9678</td>\n",
       "      <td>10.0</td>\n",
       "      <td>335.0</td>\n",
       "      <td>193.7051</td>\n",
       "      <td>32.7869</td>\n",
       "      <td>1</td>\n",
       "      <td>1</td>\n",
       "      <td>127</td>\n",
       "      <td>1378295</td>\n",
       "      <td>1268519</td>\n",
       "    </tr>\n",
       "    <tr>\n",
       "      <th>4</th>\n",
       "      <td>5</td>\n",
       "      <td>kirby127a_3_1_ax.img</td>\n",
       "      <td>Mesencephalon</td>\n",
       "      <td>10268</td>\n",
       "      <td>55.0</td>\n",
       "      <td>307.0</td>\n",
       "      <td>230.8583</td>\n",
       "      <td>29.2249</td>\n",
       "      <td>1</td>\n",
       "      <td>1</td>\n",
       "      <td>127</td>\n",
       "      <td>1378295</td>\n",
       "      <td>1268519</td>\n",
       "    </tr>\n",
       "  </tbody>\n",
       "</table>\n",
       "</div>"
      ],
      "text/plain": [
       "   Unnamed: 0                 rawid              roi  volume   min    max  \\\n",
       "0           1  kirby127a_3_1_ax.img  Telencephalon_L  531111   0.0  374.0   \n",
       "1           2  kirby127a_3_1_ax.img  Telencephalon_R  543404   0.0  300.0   \n",
       "2           3  kirby127a_3_1_ax.img   Diencephalon_L    9683  15.0  295.0   \n",
       "3           4  kirby127a_3_1_ax.img   Diencephalon_R    9678  10.0  335.0   \n",
       "4           5  kirby127a_3_1_ax.img    Mesencephalon   10268  55.0  307.0   \n",
       "\n",
       "       mean      std  type  level   id      icv      tbv  \n",
       "0  128.3013  51.8593     1      1  127  1378295  1268519  \n",
       "1  135.0683  53.6471     1      1  127  1378295  1268519  \n",
       "2  193.5488  32.2733     1      1  127  1378295  1268519  \n",
       "3  193.7051  32.7869     1      1  127  1378295  1268519  \n",
       "4  230.8583  29.2249     1      1  127  1378295  1268519  "
      ]
     },
     "execution_count": 59,
     "metadata": {},
     "output_type": "execute_result"
    }
   ],
   "source": [
    "import pandas as pd\n",
    "\n",
    "kirb21_df = pd.read_csv(\"https://raw.githubusercontent.com/smart-stats/ds4bio_book/main/book/assetts/kirby21AllLevels.csv\")\n",
    "kirb21_df.head()"
   ]
  },
  {
   "cell_type": "code",
   "execution_count": 60,
   "metadata": {},
   "outputs": [
    {
     "data": {
      "text/plain": [
       "('𝛽1=1.0442415398322407', '𝛽0=-13875.944799423509')"
      ]
     },
     "execution_count": 60,
     "metadata": {},
     "output_type": "execute_result"
    }
   ],
   "source": [
    "L_telencephalon = kirb21_df[kirb21_df['roi'] == 'Telencephalon_L']\n",
    "R_telencephalon = kirb21_df[kirb21_df['roi'] == 'Telencephalon_R']\n",
    "L_telencephalon_V = L_telencephalon['volume']\n",
    "R_telencephalon_V = R_telencephalon['volume']\n",
    "\n",
    "# left telencelphalon (predictor) to the right telencephalon (outcome)\n",
    "linear_regression(L_telencephalon_V, R_telencephalon_V)"
   ]
  },
  {
   "cell_type": "code",
   "execution_count": 61,
   "metadata": {},
   "outputs": [
    {
     "data": {
      "text/plain": [
       "LinregressResult(slope=1.044241539832241, intercept=-13875.944799423742, rvalue=0.996035700447307, pvalue=2.263810124403753e-20, stderr=0.021981493268417158, intercept_stderr=11062.183921530188)"
      ]
     },
     "execution_count": 61,
     "metadata": {},
     "output_type": "execute_result"
    }
   ],
   "source": [
    "linregress(L_telencephalon_V, R_telencephalon_V)"
   ]
  },
  {
   "cell_type": "code",
   "execution_count": 62,
   "metadata": {},
   "outputs": [
    {
     "data": {
      "text/plain": [
       "('𝛽1=0.9500552111008128', '𝛽0=17150.431045804115')"
      ]
     },
     "execution_count": 62,
     "metadata": {},
     "output_type": "execute_result"
    }
   ],
   "source": [
    "# right telencelphalon (predictor) to the left telencephalon (outcome)\n",
    "linear_regression(R_telencephalon_V, L_telencephalon_V)"
   ]
  },
  {
   "cell_type": "code",
   "execution_count": 63,
   "metadata": {},
   "outputs": [
    {
     "data": {
      "text/plain": [
       "LinregressResult(slope=0.9500552111008129, intercept=17150.431045804056, rvalue=0.996035700447307, pvalue=2.263810124403753e-20, stderr=0.019998852210755903, intercept_stderr=10233.546278423977)"
      ]
     },
     "execution_count": 63,
     "metadata": {},
     "output_type": "execute_result"
    }
   ],
   "source": [
    "linregress(R_telencephalon_V, L_telencephalon_V)"
   ]
  },
  {
   "cell_type": "code",
   "execution_count": 64,
   "metadata": {},
   "outputs": [
    {
     "name": "stdout",
     "output_type": "stream",
     "text": [
      "0        531111\n",
      "836      545603\n",
      "1672     483107\n",
      "2508     558849\n",
      "3344     509945\n",
      "4180     538936\n",
      "5016     506151\n",
      "5852     457862\n",
      "6688     551654\n",
      "7524     482556\n",
      "8360     483496\n",
      "9196     373246\n",
      "10032    526596\n",
      "10868    468915\n",
      "11704    516579\n",
      "12540    467063\n",
      "13376    486629\n",
      "14212    557758\n",
      "15048    468971\n",
      "15884    512967\n",
      "Name: volume, dtype: int64 1        543404\n",
      "837      552216\n",
      "1673     490805\n",
      "2509     568830\n",
      "3345     518902\n",
      "4181     541024\n",
      "5017     516742\n",
      "5853     461817\n",
      "6689     570542\n",
      "7525     490654\n",
      "8361     488470\n",
      "9197     380492\n",
      "10033    543440\n",
      "10869    473350\n",
      "11705    519582\n",
      "12541    470488\n",
      "13377    495646\n",
      "14213    572435\n",
      "15049    476112\n",
      "15885    519178\n",
      "Name: volume, dtype: int64\n"
     ]
    }
   ],
   "source": [
    "L_telecephalon_t1l1 = kirb21_df[(kirb21_df['roi'] == 'Telencephalon_L') & (kirb21_df['type'] == 1) & (kirb21_df['level'] == 1)]\n",
    "R_telecephalon_t1l1 = kirb21_df[(kirb21_df['roi'] == 'Telencephalon_R') & (kirb21_df['type'] == 1) & (kirb21_df['level'] == 1)]\n",
    "L_telecephalon_V_t1l1 = L_telencephalon['volume']\n",
    "R_telecephalon_V_t1l1 = R_telencephalon['volume']"
   ]
  },
  {
   "cell_type": "code",
   "execution_count": 69,
   "metadata": {},
   "outputs": [
    {
     "data": {
      "image/png": "[encoded data removed]",
      "text/plain": [
       "<Figure size 800x600 with 1 Axes>"
      ]
     },
     "metadata": {},
     "output_type": "display_data"
    }
   ],
   "source": [
    "import matplotlib.pyplot as plt\n",
    "import seaborn as sns\n",
    "\n",
    "plot_df = pd.DataFrame({\n",
    "    'Left Telencephalon Volume': L_telecephalon_V_t1l1.values,\n",
    "    'Right Telencephalon Volume': R_telecephalon_V_t1l1.values\n",
    "})\n",
    "\n",
    "plt.figure(figsize=(8, 6))\n",
    "sns.scatterplot(data = plot_df, x = 'Left Telencephalon Volume', y = 'Right Telencephalon Volume')\n",
    "plt.title('Left vs. Right Telencephalon Volumes')\n",
    "plt.xlabel('Left Telencephalon Volume')\n",
    "plt.ylabel('Right Telencephalon Volume')\n",
    "plt.grid(True)\n",
    "plt.show()"
   ]
  },
  {
   "cell_type": "markdown",
   "metadata": {},
   "source": [
    "### 2.\n",
    " When replacing X by cX where c is a positive constant, we are scaling the X value by c. \n",
    " Y = B*(c*X)\n",
    " Y = (c*B)*X\n",
    "The new estimate of B, B' is (1/c)*B (i.e. B' = (1/c)*B)"
   ]
  },
  {
   "cell_type": "markdown",
   "metadata": {},
   "source": [
    "### 3.\n",
    "For observations in $G0$, where $X_i = 0$, $\\hat{Y}$ = $\\hat{\\beta}_0$, which means the average outcome for observations in $G0$.\n",
    "\n",
    "Similarly, for observations in $G1$, where $X_i = 1$, the predicted $\\hat{Y}$ simplifies to $\\hat{\\beta}_0 + \\hat{\\beta}_1$, which means the average outcome in $G1$.\n"
   ]
  },
  {
   "cell_type": "code",
   "execution_count": 72,
   "metadata": {},
   "outputs": [
    {
     "data": {
      "text/plain": [
       "(array([101.19616031, 100.4440991 ]),\n",
       " 101.1961603106897,\n",
       " 201.64025941495663,\n",
       " 100.44409910426693)"
      ]
     },
     "execution_count": 72,
     "metadata": {},
     "output_type": "execute_result"
    }
   ],
   "source": [
    "import numpy as np\n",
    "import statsmodels.api as sm\n",
    "\n",
    "# Parameters\n",
    "n = 100  # Number of observations for each group\n",
    "np.random.seed(0)\n",
    "\n",
    "# Simulate data for Group 0 and Group 1\n",
    "Y0 = np.random.normal(100, 20, n)  # Group 0 data (mean 100, sd 20)\n",
    "Y1 = np.random.normal(200, 20, n)  # Group 1 data (mean 200, sd 20)\n",
    "\n",
    "# Combine into a single dataset\n",
    "Y = np.concatenate((Y0, Y1))\n",
    "X = np.concatenate((np.zeros(n), np.ones(n)))  # Group indicators: 0 for Group 0, 1 for Group 1\n",
    "\n",
    "# Add a constant for the intercept term\n",
    "X = sm.add_constant(X)\n",
    "\n",
    "# Fit the OLS model\n",
    "model = sm.OLS(Y, X).fit()\n",
    "\n",
    "# The predicted values\n",
    "Y_pred = model.predict(X)\n",
    "\n",
    "# Compute the means of the predicted values for each group\n",
    "mean_pred_group_0 = Y_pred[X[:, 1] == 0].mean()\n",
    "mean_pred_group_1 = Y_pred[X[:, 1] == 1].mean()\n",
    "difference = mean_pred_group_1 - mean_pred_group_0\n",
    "\n",
    "# Print the coefficients and the means\n",
    "model.params, mean_pred_group_0, mean_pred_group_1, difference\n",
    "\n",
    "# We can see from the output, beta0 = mean_pred_group_0, beta1 = difference\n"
   ]
  },
  {
   "cell_type": "markdown",
   "metadata": {},
   "source": [
    "### 4. \n",
    "Standardized version of $Y$:\n",
    "\n",
    "$$\n",
    "Z_Y = \\frac{Y - \\text{mean}(Y)}{\\text{std}(Y)}\n",
    "$$\n",
    "\n",
    "Standardized version of $X$:\n",
    "\n",
    "$$\n",
    "Z_X = \\frac{X - \\text{mean}(X)}{\\text{std}(X)}\n",
    "$$\n",
    "\n",
    "When we perform linear regression with these standardized variables, the regression function with slope $\\beta$ is:\n",
    "\n",
    "$$\n",
    "Z_Y = \\beta Z_X + \\epsilon\n",
    "$$\n",
    "\n",
    "and the value of $\\beta$ is calculated as:\n",
    "\n",
    "$$\n",
    "\\beta = Cor(Z_X, Z_Y) \\frac{\\text{std}(Z_Y)}{\\text{std}(Z_X)}\n",
    "$$\n",
    "\n",
    "and the standard deviations for standardized $Y$ ($Z_Y$) and standardized $X$ ($Z_X$) are both 1. Therefore, $\\beta$ = $Cor(X, Y)$.\n",
    "\n",
    "The same holds true if we regress $X$ on $Y$; the slope will still be $Cor(X, Y)$ because correlation is symmetrical—it does not depend on which variable is considered the predictor and which is the response.\n",
    "\n"
   ]
  }
 ],
 "metadata": {
  "kernelspec": {
   "display_name": "Python 3",
   "language": "python",
   "name": "python3"
  },
  "language_info": {
   "codemirror_mode": {
    "name": "ipython",
    "version": 3
   },
   "file_extension": ".py",
   "mimetype": "text/x-python",
   "name": "python",
   "nbconvert_exporter": "python",
   "pygments_lexer": "ipython3",
   "version": "3.12.2"
  }
 },
 "nbformat": 4,
 "nbformat_minor": 2
}
